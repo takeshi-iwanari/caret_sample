{
 "cells": [
  {
   "cell_type": "code",
   "execution_count": null,
   "id": "7d97007a-1a1e-4224-be0d-cbfdc9acabf6",
   "metadata": {},
   "outputs": [],
   "source": [
    "import os\n",
    "import numpy as np\n",
    "from caret_analyze import Architecture, Application, check_procedure, Lttng, LttngEventFilter\n",
    "from caret_analyze.plot import Plot, message_flow, callback_graph, chain_latency, callback_sched\n",
    "from bokeh.plotting import output_notebook, figure, show\n",
    "import pandas as pd\n",
    "import pandas_bokeh\n",
    "import matplotlib.pyplot as plt\n",
    "import IPython\n",
    "output_notebook()"
   ]
  },
  {
   "cell_type": "code",
   "execution_count": null,
   "id": "522708e2-74c0-4df5-a0d9-642cb9e261ed",
   "metadata": {},
   "outputs": [],
   "source": [
    "observed_data_path = os.environ['HOME'] + '/.ros/tracing/caret_sample'"
   ]
  },
  {
   "cell_type": "code",
   "execution_count": null,
   "id": "9c12a60a-a036-44d1-ac66-859e51fa1e6e",
   "metadata": {},
   "outputs": [],
   "source": [
    "lttng = Lttng(observed_data_path, force_conversion=True, event_filters=[LttngEventFilter.strip_filter(0.2, 0.2)])\n",
    "arch = Architecture('lttng', observed_data_path)\n",
    "app = Application(arch, lttng)"
   ]
  },
  {
   "cell_type": "code",
   "execution_count": null,
   "id": "955cd66f-0ab8-4d58-9685-d216d95c6094",
   "metadata": {},
   "outputs": [],
   "source": [
    "node_list = []\n",
    "target_node_name_list = []\n",
    "node_count = lttng.get_count(['node_name'])\n",
    "\n",
    "for i, item in enumerate(node_count.iterrows()):\n",
    "    target_node_name_list.append(item[0])\n",
    "target_node_name_list.sort()\n",
    "\n",
    "for node_name in target_node_name_list:\n",
    "    try:\n",
    "        node_list.append(app.get_node(node_name))\n",
    "    except:\n",
    "        print(f'Failed to find node \\\"{node_name}\\\"')   # You can ignore this message\n",
    "\n",
    "for node in node_list:\n",
    "    print(node.node_name)"
   ]
  },
  {
   "cell_type": "code",
   "execution_count": null,
   "id": "162914cd",
   "metadata": {},
   "outputs": [],
   "source": [
    "def show_histogram(measurement):\n",
    "    for item in measurement.iteritems():\n",
    "        df_to_histogram = pd.DataFrame()\n",
    "        if 'callback_start_timestamp' not in item[1].name[1]:\n",
    "            item[1].name = item[1].name[0]\n",
    "            df_to_histogram = pd.concat([df_to_histogram, item[1]], axis=1)\n",
    "            df_to_histogram = df_to_histogram.dropna().astype(float)\n",
    "            if not df_to_histogram.empty:\n",
    "                df_to_histogram.plot_bokeh.hist()\n",
    "    # df_to_histogram.hist(layout=(7, 2), figsize=(10,18))\n",
    "    plt.close()"
   ]
  },
  {
   "cell_type": "code",
   "execution_count": null,
   "id": "00952c81-04b6-452e-9c78-a41e0f44efde",
   "metadata": {},
   "outputs": [],
   "source": [
    "# Frequency\n",
    "for node in node_list:\n",
    "    plot = Plot.create_callback_frequency_plot(node)\n",
    "    measurement = plot.to_dataframe()\n",
    "    measurement_mean = measurement.mean()\n",
    "    \n",
    "    print(f'------> {node.node_name} <------')\n",
    "    for index, mean in zip(measurement_mean.index, measurement_mean):\n",
    "        if 'frequency' in index[1]:\n",
    "            print(f\"{index[0]}\")\n",
    "            print(f\"\\t{index[1]}:{mean}\")\n",
    "    plot.show('system_time')\n",
    "    # measurement.plot_bokeh.hist()\n",
    "\n",
    "    show_histogram(measurement)\n",
    "    print('------------')"
   ]
  },
  {
   "cell_type": "code",
   "execution_count": null,
   "id": "f682854c",
   "metadata": {},
   "outputs": [],
   "source": [
    "# Jitter\n",
    "for node in node_list:\n",
    "    plot = Plot.create_callback_jitter_plot(node)\n",
    "    measurement = plot.to_dataframe()\n",
    "    measurement_mean = measurement.mean()\n",
    "    \n",
    "    print(f'------> {node.node_name} <------')\n",
    "    for index, mean in zip(measurement_mean.index, measurement_mean):\n",
    "        if 'period' in index[1]:\n",
    "            print(f\"{index[0]}\")\n",
    "            print(f\"\\t{index[1]}:{mean}\")\n",
    "    plot.show('system_time')\n",
    "    show_histogram(measurement)\n",
    "    print('------------')"
   ]
  },
  {
   "cell_type": "code",
   "execution_count": null,
   "id": "144b0697",
   "metadata": {},
   "outputs": [],
   "source": [
    "# Latency\n",
    "from caret_analyze.plot import Plot\n",
    "for node in node_list:\n",
    "    plot = Plot.create_callback_latency_plot(node)\n",
    "    measurement = plot.to_dataframe()\n",
    "    measurement_mean = measurement.mean()\n",
    "    \n",
    "    print(f'------> {node.node_name} <------')\n",
    "    for index, mean in zip(measurement_mean.index, measurement_mean):\n",
    "        if 'latency' in index[1]:\n",
    "            print(f\"{index[0]}\")\n",
    "            print(f\"\\t{index[1]}:{mean}\")\n",
    "    plot.show('system_time')\n",
    "    show_histogram(measurement)\n",
    "    print('------------')"
   ]
  },
  {
   "cell_type": "code",
   "execution_count": null,
   "id": "344b5d9a-f899-48cc-85ad-3b1e84883b1a",
   "metadata": {},
   "outputs": [],
   "source": [
    "for node in node_list:\n",
    "    print(node.node_name)\n",
    "    if len(node.callbacks) < 2:\n",
    "        continue\n",
    "    for i, callback in enumerate(node.callbacks):\n",
    "        print(f\"-----{i} symbol\")\n",
    "        print(f\"---- {callback.callback_name} -----\")\n",
    "        print(callback.symbol)"
   ]
  }
 ],
 "metadata": {
  "interpreter": {
   "hash": "916dbcbb3f70747c44a77c7bcd40155683ae19c65e1c03b4aa3499c5328201f1"
  },
  "kernelspec": {
   "display_name": "Python 3.8.10 64-bit",
   "language": "python",
   "name": "python3"
  },
  "language_info": {
   "codemirror_mode": {
    "name": "ipython",
    "version": 3
   },
   "file_extension": ".py",
   "mimetype": "text/x-python",
   "name": "python",
   "nbconvert_exporter": "python",
   "pygments_lexer": "ipython3",
   "version": "3.8.10"
  }
 },
 "nbformat": 4,
 "nbformat_minor": 5
}
