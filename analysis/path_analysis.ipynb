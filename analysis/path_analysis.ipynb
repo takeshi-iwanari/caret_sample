{
 "cells": [
  {
   "cell_type": "code",
   "execution_count": null,
   "id": "7d97007a-1a1e-4224-be0d-cbfdc9acabf6",
   "metadata": {},
   "outputs": [],
   "source": [
    "import os\n",
    "import numpy as np\n",
    "from caret_analyze import Architecture, Application, check_procedure, Lttng, LttngEventFilter\n",
    "from caret_analyze.plot import Plot, message_flow, callback_graph, chain_latency, callback_sched\n",
    "from bokeh.plotting import output_notebook, figure, show\n",
    "import pandas as pd\n",
    "import pandas_bokeh\n",
    "import matplotlib.pyplot as plt\n",
    "import IPython\n",
    "from IPython.display import Image, display_svg\n",
    "output_notebook()"
   ]
  },
  {
   "cell_type": "code",
   "execution_count": null,
   "id": "522708e2-74c0-4df5-a0d9-642cb9e261ed",
   "metadata": {},
   "outputs": [],
   "source": [
    "tracing_log_path = os.environ['HOME'] + '/.ros/tracing/caret_sample'\n",
    "architecture_raw_path = 'raw_architecture.yaml'\n",
    "\n",
    "architecture_fixed_path = 'sample_0.yaml'\n",
    "from make_paths_straight import make_paths\n",
    "\n",
    "# architecture_fixed_path = 'sample_sub3pub1.yaml'\n",
    "# from make_paths_sub3pub1 import make_paths"
   ]
  },
  {
   "cell_type": "code",
   "execution_count": null,
   "id": "9c12a60a-a036-44d1-ac66-859e51fa1e6e",
   "metadata": {},
   "outputs": [],
   "source": [
    "lttng = Lttng(tracing_log_path, force_conversion=True)\n",
    "arch = Architecture('lttng', tracing_log_path)\n",
    "arch.export(architecture_raw_path, force=True)"
   ]
  },
  {
   "cell_type": "code",
   "execution_count": null,
   "id": "955cd66f-0ab8-4d58-9685-d216d95c6094",
   "metadata": {},
   "outputs": [],
   "source": [
    "path_name_list = make_paths(architecture_raw_path, \"temp.yaml\")\n",
    "\n",
    "# then, copy \"temp.yaml\" to architecture_fixed_path, and modify it if needed"
   ]
  },
  {
   "cell_type": "code",
   "execution_count": null,
   "id": "00952c81-04b6-452e-9c78-a41e0f44efde",
   "metadata": {},
   "outputs": [],
   "source": [
    "# UNDEFINED -> use_latest_message\n",
    "arch = Architecture('yaml', architecture_fixed_path)\n",
    "for target_pathname in path_name_list:\n",
    "    path = arch.get_path(target_pathname)\n",
    "    print(path.verify())"
   ]
  },
  {
   "cell_type": "code",
   "execution_count": null,
   "id": "344b5d9a-f899-48cc-85ad-3b1e84883b1a",
   "metadata": {},
   "outputs": [],
   "source": [
    "lttng = Lttng(tracing_log_path, force_conversion=True, event_filters=[LttngEventFilter.duration_filter(0.3, 1.0)])\n",
    "app = Application(arch, lttng)\n",
    "\n",
    "path_list = []\n",
    "for path_name in path_name_list:\n",
    "    path_list.append(app.get_path(path_name))"
   ]
  },
  {
   "cell_type": "code",
   "execution_count": null,
   "id": "1703a34a",
   "metadata": {},
   "outputs": [],
   "source": [
    "# Message Flow\n",
    "for target_path in path_list:\n",
    "    print(f'*** {path.path_name} ***')\n",
    "    message_flow(target_path, granularity='node', treat_drop_as_delay=False)"
   ]
  },
  {
   "cell_type": "code",
   "execution_count": null,
   "id": "c5ce4f7c-5332-4cd1-8f1c-8de72a68413b",
   "metadata": {},
   "outputs": [],
   "source": [
    "# Chain Latency\n",
    "from graphviz import Digraph\n",
    "graph_all = Digraph()\n",
    "for path in path_list:\n",
    "    print(f'*** {path.path_name} ***')\n",
    "    graph = chain_latency(path, granularity='node', treat_drop_as_delay=False)\n",
    "    display_svg(graph)\n",
    "    # graph.view(path.path_name)\n",
    "    graph_all.subgraph(graph)\n",
    "\n",
    "if len(path_list) > 1:\n",
    "    print(f'*** Composed graph ***')\n",
    "    display_svg(graph_all)\n",
    "    # graph_all.view()"
   ]
  },
  {
   "cell_type": "code",
   "execution_count": null,
   "id": "f2819136",
   "metadata": {},
   "outputs": [],
   "source": [
    "# Average and Timechart for each path\n",
    "for name, path in zip(path_name_list, path_list):\n",
    "\n",
    "    abs_ts, latency_ns = path.to_timeseries(remove_dropped=False, treat_drop_as_delay=True)\n",
    "    latency_ms = latency_ns * 10**-6 # latensy as milliseconds\n",
    "\n",
    "    stats_latency = np.array([item for item in latency_ms if isinstance(item, float)])\n",
    "    print(f\"Path: {name}\")\n",
    "    print(f\"mean: {stats_latency.mean()} msec, std: {stats_latency.std()}\")\n",
    "    print(f\"min : {stats_latency.min()} msec, max : {stats_latency.max()}\")\n",
    "    \n",
    "    rel_ts = (abs_ts - abs_ts[0]) * 10**-9 # timetamp as seconds\n",
    "    p = figure()\n",
    "    p.line(rel_ts, latency_ms)\n",
    "    show(p)\n",
    "\n",
    "    bins, hist = path.to_histogram(treat_drop_as_delay=True)\n",
    "    p = figure()\n",
    "    hist = hist*10**-6 # nanoseconds to milliseconds\n",
    "    p.step(hist[1:], bins)\n",
    "    show(p)\n"
   ]
  }
 ],
 "metadata": {
  "interpreter": {
   "hash": "916dbcbb3f70747c44a77c7bcd40155683ae19c65e1c03b4aa3499c5328201f1"
  },
  "kernelspec": {
   "display_name": "Python 3.8.10 64-bit",
   "language": "python",
   "name": "python3"
  },
  "language_info": {
   "codemirror_mode": {
    "name": "ipython",
    "version": 3
   },
   "file_extension": ".py",
   "mimetype": "text/x-python",
   "name": "python",
   "nbconvert_exporter": "python",
   "pygments_lexer": "ipython3",
   "version": "3.8.10"
  }
 },
 "nbformat": 4,
 "nbformat_minor": 5
}
