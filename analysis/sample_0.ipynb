{
 "cells": [
  {
   "cell_type": "code",
   "execution_count": null,
   "id": "7d97007a-1a1e-4224-be0d-cbfdc9acabf6",
   "metadata": {},
   "outputs": [],
   "source": [
    "import os\n",
    "from caret_analyze import Architecture, Application, check_procedure, Lttng\n",
    "from caret_analyze.plot import message_flow\n",
    "from caret_analyze.plot import chain_latency\n",
    "\n",
    "from bokeh.plotting import output_notebook, figure, show\n",
    "output_notebook()"
   ]
  },
  {
   "cell_type": "code",
   "execution_count": null,
   "id": "522708e2-74c0-4df5-a0d9-642cb9e261ed",
   "metadata": {},
   "outputs": [],
   "source": [
    "tracing_log_path = os.environ['HOME'] + '/.ros/tracing/caret_sample'\n",
    "architecture_org_path = 'architecture.yaml'\n",
    "architecture_fixed_path = 'sample_0.yaml'"
   ]
  },
  {
   "cell_type": "code",
   "execution_count": null,
   "id": "9c12a60a-a036-44d1-ac66-859e51fa1e6e",
   "metadata": {},
   "outputs": [],
   "source": [
    "lttng = Lttng(tracing_log_path, force_conversion=True)\n",
    "arch = Architecture('lttng', tracing_log_path)\n",
    "arch.export(architecture_org_path, force=True)"
   ]
  },
  {
   "cell_type": "code",
   "execution_count": null,
   "id": "955cd66f-0ab8-4d58-9685-d216d95c6094",
   "metadata": {},
   "outputs": [],
   "source": [
    "arch = Architecture('yaml', architecture_org_path)\n",
    "paths = arch.search_paths(\n",
    "    '/node_src',\n",
    "    '/node_dst',\n",
    ")\n",
    "\n",
    "path = paths[0]\n",
    "path.summary.pprint()\n",
    "\n",
    "arch.add_path('target_path', path)\n",
    "arch.export(architecture_org_path, force=True)"
   ]
  },
  {
   "cell_type": "code",
   "execution_count": null,
   "id": "00952c81-04b6-452e-9c78-a41e0f44efde",
   "metadata": {},
   "outputs": [],
   "source": [
    "# UNDEFINED -> use_latest_message\n",
    "arch = Architecture('yaml', architecture_fixed_path)\n",
    "path = arch.get_path('target_path')\n",
    "path.verify()"
   ]
  },
  {
   "cell_type": "code",
   "execution_count": null,
   "id": "144b0697",
   "metadata": {},
   "outputs": [],
   "source": [
    "lttng = Lttng(tracing_log_path, force_conversion=True)\n",
    "app = Application(arch, lttng)\n",
    "path = app.get_path('target_path')"
   ]
  },
  {
   "cell_type": "code",
   "execution_count": null,
   "id": "344b5d9a-f899-48cc-85ad-3b1e84883b1a",
   "metadata": {},
   "outputs": [],
   "source": [
    "message_flow(path, granularity='node', treat_drop_as_delay=False)"
   ]
  },
  {
   "cell_type": "code",
   "execution_count": null,
   "id": "c5ce4f7c-5332-4cd1-8f1c-8de72a68413b",
   "metadata": {},
   "outputs": [],
   "source": [
    "chain_latency(path, granularity='node', treat_drop_as_delay=False, lstrip_s=0.1, rstrip_s=0.1)"
   ]
  },
  {
   "cell_type": "code",
   "execution_count": null,
   "id": "3bc417dc-9279-4c33-9666-c01a56dbdc22",
   "metadata": {},
   "outputs": [],
   "source": [
    "t, latency_ns = path.to_timeseries(remove_dropped=False, treat_drop_as_delay=False, lstrip_s=0.1, rstrip_s=0.1)\n",
    "latency_ms = latency_ns * 1.0e-6\n",
    "p = figure()\n",
    "p.line(t, latency_ms)\n",
    "show(p)"
   ]
  },
  {
   "cell_type": "code",
   "execution_count": null,
   "id": "6e2f8897-8863-4629-b3af-addbd8aba76a",
   "metadata": {},
   "outputs": [],
   "source": [
    "bins, hist = path.to_histogram(treat_drop_as_delay=False, lstrip_s=0.1, rstrip_s=0.1)\n",
    "p = figure()\n",
    "p.step(hist[1:], bins)\n",
    "show(p)"
   ]
  }
 ],
 "metadata": {
  "interpreter": {
   "hash": "916dbcbb3f70747c44a77c7bcd40155683ae19c65e1c03b4aa3499c5328201f1"
  },
  "kernelspec": {
   "display_name": "Python 3.8.10 64-bit",
   "language": "python",
   "name": "python3"
  },
  "language_info": {
   "codemirror_mode": {
    "name": "ipython",
    "version": 3
   },
   "file_extension": ".py",
   "mimetype": "text/x-python",
   "name": "python",
   "nbconvert_exporter": "python",
   "pygments_lexer": "ipython3",
   "version": "3.8.10"
  }
 },
 "nbformat": 4,
 "nbformat_minor": 5
}
